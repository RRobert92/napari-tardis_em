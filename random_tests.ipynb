{
 "cells": [
  {
   "cell_type": "code",
   "id": "initial_id",
   "metadata": {
    "collapsed": true,
    "ExecuteTime": {
     "end_time": "2024-07-13T08:50:11.228121Z",
     "start_time": "2024-07-13T08:50:07.804043Z"
    }
   },
   "source": [
    "import torch\n",
    "\n",
    "def get_available_devices():\n",
    "    devices = ['cpu']\n",
    "    \n",
    "    # Check if CUDA (NVIDIA GPU) is available and list all available CUDA devices\n",
    "    if torch.cuda.is_available():\n",
    "        for i in range(torch.cuda.device_count()):\n",
    "            devices.append(f'cuda:{i}')\n",
    "    \n",
    "    # Check for MPS (Apple's Metal Performance Shaders) availability\n",
    "    if torch.backends.mps.is_available():\n",
    "        devices.append('mps')\n",
    "    \n",
    "    return devices"
   ],
   "outputs": [],
   "execution_count": 1
  },
  {
   "metadata": {
    "ExecuteTime": {
     "end_time": "2024-07-13T08:50:24.038029Z",
     "start_time": "2024-07-13T08:50:24.008156Z"
    }
   },
   "cell_type": "code",
   "source": "get_available_devices()",
   "id": "7a84a850798f427c",
   "outputs": [
    {
     "data": {
      "text/plain": [
       "['cpu', 'mps']"
      ]
     },
     "execution_count": 3,
     "metadata": {},
     "output_type": "execute_result"
    }
   ],
   "execution_count": 3
  },
  {
   "metadata": {},
   "cell_type": "code",
   "outputs": [],
   "execution_count": null,
   "source": "",
   "id": "e9d829b22b8305d6"
  }
 ],
 "metadata": {
  "kernelspec": {
   "display_name": "Python 3",
   "language": "python",
   "name": "python3"
  },
  "language_info": {
   "codemirror_mode": {
    "name": "ipython",
    "version": 2
   },
   "file_extension": ".py",
   "mimetype": "text/x-python",
   "name": "python",
   "nbconvert_exporter": "python",
   "pygments_lexer": "ipython2",
   "version": "2.7.6"
  }
 },
 "nbformat": 4,
 "nbformat_minor": 5
}
